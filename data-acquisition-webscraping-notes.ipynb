{
 "cells": [
  {
   "cell_type": "markdown",
   "id": "1bd858c9",
   "metadata": {},
   "source": [
    "### ** Web Scraping Ethics **\n",
    "#### Make sure the website's terms of use allow for web scraping. "
   ]
  },
  {
   "cell_type": "markdown",
   "id": "cd378469",
   "metadata": {},
   "source": [
    "#### Web Scraping Process:\n",
    "1. Manually explore site -> identify relevant HTML elements.\n",
    "2. Use 'requests' module to obtain the HTML from the page.\n",
    "3. Use BeautifulSoup to parse the HTML and obtain the text/data.\n",
    "4. Script the process of requesting another page and parsing the data from it as well.\n",
    "5. Continue along Data Science pipeline.\n",
    "\n",
    "#### Steps:\n",
    "1. Import the get() function from the requests module, BeautifulSoup from bs4, and pandas.\n",
    "2. Assign the address of the web page to a variable named url.\n",
    "3. Request the server the content of the web page by using get(), and store the server's response in the variable response.\n",
    "4. Print the response text to ensure you have an html page.\n",
    "5. Take a look at the actual web page contents and inspect the source to understand the structure a bit.\n",
    "6. Use BeautifulSoup to parse the HTML into a varaible ('soup').\n",
    "7. Identify the key tags you need to extract the data you are looking for.\n",
    "8. Create a dataframe of the data desired.\n",
    "9. Run some summary stats and inspect the data to ensure you have what you wanted.\n",
    "10. Edit the data structure as needed, especially so that one column has all the text you want included in this analysis.\n",
    "11. Create a corpus of the column with the text you want to analyze.\n",
    "12. Store that corpus for use in a future notebook."
   ]
  },
  {
   "cell_type": "code",
   "execution_count": 10,
   "id": "d3adae49",
   "metadata": {},
   "outputs": [],
   "source": [
    "from requests import get\n",
    "from bs4 import BeautifulSoup\n",
    "import os"
   ]
  },
  {
   "cell_type": "code",
   "execution_count": 2,
   "id": "ae9f4f88",
   "metadata": {},
   "outputs": [],
   "source": [
    "url = 'https://codeup.com/data-science/math-in-data-science/'\n",
    "headers = {'User-Agent': 'Codeup Data Science'} \n",
    "response = get(url, headers=headers)"
   ]
  },
  {
   "cell_type": "code",
   "execution_count": 3,
   "id": "21a810d5",
   "metadata": {},
   "outputs": [
    {
     "name": "stdout",
     "output_type": "stream",
     "text": [
      "<!DOCTYPE html>\n",
      "<html lang=\"en-US\">\n",
      "<head>\n",
      "\t<meta charset=\"UTF-8\" />\n",
      "<meta http-equiv=\"X-UA-Compatible\" content=\"IE=edge\">\n",
      "\t<link rel=\"pingback\" href=\"https://codeup.com/xmlrpc.php\" />\n",
      "\n",
      "\t<script type=\"text/javascript\">\n",
      "\t\tdocument.documentElement.className = 'js';\n",
      "\t</script>\n",
      "\t\n",
      "\t<link rel=\"preconnect\" href=\"https://fonts.gstatic.com\" crossorigin /><script id=\"diviarea-loader\">window.DiviPopupData=wi\n"
     ]
    }
   ],
   "source": [
    "print(response.text[:400])"
   ]
  },
  {
   "cell_type": "code",
   "execution_count": 4,
   "id": "bda8f35c",
   "metadata": {},
   "outputs": [],
   "source": [
    "soup = BeautifulSoup(response.content, 'html.parser')"
   ]
  },
  {
   "cell_type": "markdown",
   "id": "c519a954",
   "metadata": {},
   "source": [
    "### Beautiful Soup Methods and Properties\n",
    "* soup.title.string gets the page's title (the same tesxt in the browser tab for a page, this is the < title > element.\n",
    "* soup.prettify() is useful to print in case you want to see the HTML.\n",
    "* soup.find_all(\"a\") find all the anchor tags, or whatever argument is specified.\n",
    "* soup.find(\"h1\") finds the first matching element\n",
    "* soup.get_text() gets the text from within a matching piece of soup/HTML\n",
    "* soup.select() takes in a CSS selector as a string and returns all matching elements. <-- **useful**"
   ]
  },
  {
   "cell_type": "code",
   "execution_count": 5,
   "id": "e791bf49",
   "metadata": {},
   "outputs": [
    {
     "data": {
      "text/plain": [
       "'\\n\\n\\n\\n\\n\\nWhat are the Math and Stats Principles You Need for Data Science?\\nOct 21, 2020 | Data Science\\n\\n\\nComing into our Data Science program, you will need to know some math and stats. However, many of our applicants actually learn in the application process – you don’t need to be an expert before applying! Data science is a very accessible field to anyone dedicated to learning new skills, and we can work with any applicant to help them learn what they need to know. But what “skills” do we mean, exactly? Just what exactly are the data science math and stats principles you need to know?\\nWhat are the main math principles you need to know to get into Codeup’s Data Science program?\\n\\n\\nAlgebra\\nDo you know PEMDAS and can you solve for x? You will need to be or become comfortable with the following:\\xa0\\n\\nVariables (x, y, n, etc.)\\nFormulas, functions, and variable manipulations (e.g. x^2 = x + 6, solve for x).\\nOrder of evaluation: PEMDAS: parentheses, exponents, then multiplication, division, addition, and subtraction\\nCommutativity where a + b = b + a\\nAssociativity where a + (b + c) = (a + b) + c\\nAdding and subtracting matrices\\nA conceptual understanding of exponential growth/decay- things can increase at an increasing rate\\n\\nDescriptive Statistics\\nKnow what a min, max, mode, median, and average are. Have a conceptual understanding that stats/probability is about trying to quantify uncertainty.\\nData Visualization\\nKnow what a scatterplot is and how to read a barplot.\\nHow to Learn and Expand on These Concepts\\nThere are a number of great resources out there to teach you these and similar concepts. Khan Academy is a great starting place for data science math! If you want to know what exactly we assign our applicants, you’ll just have to apply!\\n\\xa0\\nWhat about once you’re in Codeup?\\n\\n\\nWhat You Won’t Do\\nDo we do any mathematical proofs for concepts or perform derivations? No.\\xa0\\nDo we do any calculus and probability calculating by hand? No.\\nAre we transforming equations, where we cancel out units or terms and do lots of algebraic gymnastics? No\\nWhat You Will Do\\nWill we have Python solve our linear algebra problems for us? Yes\\nWill we have Python calculate probabilities, the area under a curve, and the slope of a line for us? Yes\\nWill we have Python do all of the calculus for us? Yes\\n\\xa0\\nSee, the data science math and stats slice of the pie is certainly doable. If you like problem-solving and are ready to challenge yourself, you’ll love data science! If you are interested in learning about data science, just apply! Our Admissions Manager can work with you to get you where you need to be starting from where you are now. Let us help you get there so you can launch a great new career.\\n\\n\\n\\n\\n\\n\\n\\n\\nOur ProgramsFull Stack Web Development\\nData Science\\nSystems Engineering\\n\\n\\n\\n\\n\\nLatest Blog Articles\\nCodeup Start Dates for March 2022\\nVET TEC Funding Now Available For Dallas Veterans\\nDallas Campus Re-opens With New Grant Partner\\nCodeup Dallas Open House\\nCodeup’s Placement Team Continues Setting Records\\n\\n\\n\\n\\n\\n\\n\\n\\n\\n\\n\\n\\n\\n\\n\\n\\n\\n \\n\\n\\n'"
      ]
     },
     "execution_count": 5,
     "metadata": {},
     "output_type": "execute_result"
    }
   ],
   "source": [
    "article = soup.find('div', id='main-content')\n",
    "article.text"
   ]
  },
  {
   "cell_type": "code",
   "execution_count": 6,
   "id": "2836b65d",
   "metadata": {},
   "outputs": [],
   "source": [
    "with open('article.txt', 'w') as f:\n",
    "    f.write(article.text)"
   ]
  },
  {
   "cell_type": "code",
   "execution_count": 11,
   "id": "bd84a368",
   "metadata": {},
   "outputs": [],
   "source": [
    "def get_article_text():\n",
    "    # Read data locally if it exists.\n",
    "    if os.path.exists('article.txt'):\n",
    "        with open('article.txt') as f:\n",
    "            return f.read()\n",
    "    # Fetch data\n",
    "    url = 'https://codeup.com/data-science/math-in-data-science/'\n",
    "    headers = {'User-Agent': 'Codeup Data Science'}\n",
    "    response = get(url, headers=headers)\n",
    "    soup = BeautifulSoup(response.text)\n",
    "    article = soup.find('div', id='main-content')\n",
    "    \n",
    "    # Save it for when needed\n",
    "    with open('article.txt', 'w') as f:\n",
    "        f.write(article.text)\n",
    "    \n",
    "    return article.text"
   ]
  },
  {
   "cell_type": "code",
   "execution_count": 12,
   "id": "d130e3f1",
   "metadata": {},
   "outputs": [
    {
     "data": {
      "text/plain": [
       "'\\n\\n\\n\\n\\n\\nWhat are the Math and Stats Principles You Need for Data Science?\\nOct 21, 2020 | Data Science\\n\\n\\nComing into our Data Science program, you will need to know some math and stats. However, many of our applicants actually learn in the application process – you don’t need to be an expert before applying! Data science is a very accessible field to anyone dedicated to learning new skills, and we can work with any applicant to help them learn what they need to know. But what “skills” do we mean, exactly? Just what exactly are the data science math and stats principles you need to know?\\nWhat are the main math principles you need to know to get into Codeup’s Data Science program?\\n\\n\\nAlgebra\\nDo you know PEMDAS and can you solve for x? You will need to be or become comfortable with the following:\\xa0\\n\\nVariables (x, y, n, etc.)\\nFormulas, functions, and variable manipulations (e.g. x^2 = x + 6, solve for x).\\nOrder of evaluation: PEMDAS: parentheses, exponents, then multiplication, division, addition, and subtraction\\nCommutativity where a + b = b + a\\nAssociativity where a + (b + c) = (a + b) + c\\nAdding and subtracting matrices\\nA conceptual understanding of exponential growth/decay- things can increase at an increasing rate\\n\\nDescriptive Statistics\\nKnow what a min, max, mode, median, and average are. Have a conceptual understanding that stats/probability is about trying to quantify uncertainty.\\nData Visualization\\nKnow what a scatterplot is and how to read a barplot.\\nHow to Learn and Expand on These Concepts\\nThere are a number of great resources out there to teach you these and similar concepts. Khan Academy is a great starting place for data science math! If you want to know what exactly we assign our applicants, you’ll just have to apply!\\n\\xa0\\nWhat about once you’re in Codeup?\\n\\n\\nWhat You Won’t Do\\nDo we do any mathematical proofs for concepts or perform derivations? No.\\xa0\\nDo we do any calculus and probability calculating by hand? No.\\nAre we transforming equations, where we cancel out units or terms and do lots of algebraic gymnastics? No\\nWhat You Will Do\\nWill we have Python solve our linear algebra problems for us? Yes\\nWill we have Python calculate probabilities, the area under a curve, and the slope of a line for us? Yes\\nWill we have Python do all of the calculus for us? Yes\\n\\xa0\\nSee, the data science math and stats slice of the pie is certainly doable. If you like problem-solving and are ready to challenge yourself, you’ll love data science! If you are interested in learning about data science, just apply! Our Admissions Manager can work with you to get you where you need to be starting from where you are now. Let us help you get there so you can launch a great new career.\\n\\n\\n\\n\\n\\n\\n\\n\\nOur ProgramsFull Stack Web Development\\nData Science\\nSystems Engineering\\n\\n\\n\\n\\n\\nLatest Blog Articles\\nCodeup Start Dates for March 2022\\nVET TEC Funding Now Available For Dallas Veterans\\nDallas Campus Re-opens With New Grant Partner\\nCodeup Dallas Open House\\nCodeup’s Placement Team Continues Setting Records\\n\\n\\n\\n\\n\\n\\n\\n\\n\\n\\n\\n\\n\\n\\n\\n\\n\\n \\n\\n\\n'"
      ]
     },
     "execution_count": 12,
     "metadata": {},
     "output_type": "execute_result"
    }
   ],
   "source": [
    "get_article_text()"
   ]
  },
  {
   "cell_type": "code",
   "execution_count": null,
   "id": "e77fda36",
   "metadata": {},
   "outputs": [],
   "source": []
  }
 ],
 "metadata": {
  "kernelspec": {
   "display_name": "Python 3 (ipykernel)",
   "language": "python",
   "name": "python3"
  },
  "language_info": {
   "codemirror_mode": {
    "name": "ipython",
    "version": 3
   },
   "file_extension": ".py",
   "mimetype": "text/x-python",
   "name": "python",
   "nbconvert_exporter": "python",
   "pygments_lexer": "ipython3",
   "version": "3.8.8"
  }
 },
 "nbformat": 4,
 "nbformat_minor": 5
}
