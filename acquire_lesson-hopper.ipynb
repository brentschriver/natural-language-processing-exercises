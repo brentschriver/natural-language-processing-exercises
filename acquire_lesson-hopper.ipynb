{
 "cells": [
  {
   "cell_type": "markdown",
   "metadata": {},
   "source": [
    "# Data Acquisition with Web Scraping"
   ]
  },
  {
   "cell_type": "code",
   "execution_count": 1,
   "metadata": {},
   "outputs": [],
   "source": [
    "import requests\n",
    "from bs4 import BeautifulSoup\n",
    "import pandas as pd"
   ]
  },
  {
   "cell_type": "markdown",
   "metadata": {},
   "source": [
    "`$ pip install beautifulsoup4`"
   ]
  },
  {
   "cell_type": "markdown",
   "metadata": {},
   "source": [
    "## Soup Methods\n",
    "\n",
    "- `soup.select('.class')`: to get all the elements with class `class`\n",
    "- `soup.select_one('.class')`: to get the first element with class `class`\n",
    "- `soup.h2`: to get the first `h2` element\n",
    "- `soup.find_all('h2')`: to get all the elements with tag name of `h2`\n",
    "- `soup('h2')` : same as `find_all` method above\n",
    "- `soup.find('h2')`: finds the first matching element"
   ]
  },
  {
   "cell_type": "markdown",
   "metadata": {},
   "source": [
    "First make the request. The response is a bunch of html."
   ]
  },
  {
   "cell_type": "code",
   "execution_count": 2,
   "metadata": {},
   "outputs": [
    {
     "data": {
      "text/plain": [
       "'<!DOCTYPE html>\\n<html lang=\"en\">\\n<head>\\n    <meta charset=\"UTF-8\">\\n    <meta http-equiv=\"X-UA-Compatible\" content=\"IE=edge\">\\n    <meta name=\"viewport\" content=\"width=device-width, initial-scale=1.0\">\\n    <title>News Example Page</title>\\n    <link href=\"https://unpkg.com/tailwindcss@^2/dist/tailwind.min.css\" rel=\"stylesheet\" />\\n    <link rel=\"stylesheet\" href=\"https://cdn.jsdelivr.net/npm/bootstrap-icons@1.4.1/font/bootstrap-icons.css\" />\\n</head>\\n<body class=\"mx-auto max-w-screen-lg pb-32\">\\n    \\n<h1 class=\"my-5 text-4xl text-center\">News!</h1>\\n<div class=\"my-5 text-red-800 px-5 py-3 bg-red-100 font-bold\">\\n    <p>\\n        <i class=\"bi bi-exclamation-circle text-xl\"></i>\\n        All data on this page is strictly for demonstration purposes and fake.\\n    </p>\\n</div>\\n<div class=\"grid gap-y-12\">\\n    \\n    <div class=\"grid grid-cols-4 gap-x-4 border rounded pr-3 bg-green-50 hover:shadow-lg transition duration-500\">\\n        <img src=\"/static/placeholder.png\" />\\n        <div class=\"col-span-3 space-y-3 py-3\">\\n            <h2 class=\"text-2xl text-green-900\">in question try</h2>\\n            <div class=\"grid grid-cols-2 italic\">\\n                <p> 2003-04-26 </p>\\n                <p class=\"text-right\">By Timothy Moreno DDS </p>\\n            </div>\\n            <p>Option policy store activity fly relationship. Keep guy fine anyone contain.\\nEverything turn bill behind. Attention simple choice per.</p>\\n        </div>\\n    </div>\\n    \\n    <div class=\"grid grid-cols-4 gap-x-4 border rounded pr-3 bg-green-50 hover:shadow-lg transition duration-500\">\\n        <img src=\"/static/placeholder.png\" />\\n        <div class=\"col-span-3 space-y-3 py-3\">\\n            <h2 class=\"text-2xl text-green-900\">series I level</h2>\\n            <div class=\"grid grid-cols-2 italic\">\\n                <p> 1988-02-13 </p>\\n                <p class=\"text-right\">By Matthew Bryant </p>\\n            </div>\\n            <p>Development what part water issue major. Daughter win leg buy such say industry.\\nThree quickly skill make eight capital help. Scientist beautiful camera site child for yard consumer. Republican them with up reach conference.</p>\\n        </div>\\n    </div>\\n    \\n    <div class=\"grid grid-cols-4 gap-x-4 border rounded pr-3 bg-green-50 hover:shadow-lg transition duration-500\">\\n        <img src=\"/static/placeholder.png\" />\\n        <div class=\"col-span-3 space-y-3 py-3\">\\n            <h2 class=\"text-2xl text-green-900\">past member generation</h2>\\n            <div class=\"grid grid-cols-2 italic\">\\n                <p> 1981-02-16 </p>\\n                <p class=\"text-right\">By Ashley Taylor </p>\\n            </div>\\n            <p>Mother chair their teach simple. Senior test among if.\\nColor coach lead provide. About first police parent growth up although.</p>\\n        </div>\\n    </div>\\n    \\n    <div class=\"grid grid-cols-4 gap-x-4 border rounded pr-3 bg-green-50 hover:shadow-lg transition duration-500\">\\n        <img src=\"/static/placeholder.png\" />\\n        <div class=\"col-span-3 space-y-3 py-3\">\\n            <h2 class=\"text-2xl text-green-900\">simple drop among</h2>\\n            <div class=\"grid grid-cols-2 italic\">\\n                <p> 2003-05-22 </p>\\n                <p class=\"text-right\">By Danielle Haynes </p>\\n            </div>\\n            <p>Happy only pass travel modern either. Year address outside grow word finally worker perhaps. Once term window travel.\\nSoon agree audience report brother customer among argue. Social relationship he outside. Participant read method himself.</p>\\n        </div>\\n    </div>\\n    \\n    <div class=\"grid grid-cols-4 gap-x-4 border rounded pr-3 bg-green-50 hover:shadow-lg transition duration-500\">\\n        <img src=\"/static/placeholder.png\" />\\n        <div class=\"col-span-3 space-y-3 py-3\">\\n            <h2 class=\"text-2xl text-green-900\">end difference compare</h2>\\n            <div class=\"grid grid-cols-2 italic\">\\n                <p> 1984-07-21 </p>\\n                <p class=\"text-right\">By Danny Boyd </p>\\n            </div>\\n            <p>Time along lead each for prevent. Deal bit simple policy research ask half. Technology smile left arrive soldier baby knowledge.\\nNext no learn in natural theory perhaps. Vote thousand discussion anyone garden real.</p>\\n        </div>\\n    </div>\\n    \\n    <div class=\"grid grid-cols-4 gap-x-4 border rounded pr-3 bg-green-50 hover:shadow-lg transition duration-500\">\\n        <img src=\"/static/placeholder.png\" />\\n        <div class=\"col-span-3 space-y-3 py-3\">\\n            <h2 class=\"text-2xl text-green-900\">my step should</h2>\\n            <div class=\"grid grid-cols-2 italic\">\\n                <p> 2004-12-15 </p>\\n                <p class=\"text-right\">By Joseph Baker </p>\\n            </div>\\n            <p>Republican they listen hold TV. Choice mean score box movement ago. Prevent treatment court wait. Make lose do memory option eight.\\nHuge others go student discuss agree. Serve nothing agency step method president. Quite rest reduce exist challenge student but. Sort clear evidence friend read.</p>\\n        </div>\\n    </div>\\n    \\n    <div class=\"grid grid-cols-4 gap-x-4 border rounded pr-3 bg-green-50 hover:shadow-lg transition duration-500\">\\n        <img src=\"/static/placeholder.png\" />\\n        <div class=\"col-span-3 space-y-3 py-3\">\\n            <h2 class=\"text-2xl text-green-900\">pretty television various</h2>\\n            <div class=\"grid grid-cols-2 italic\">\\n                <p> 1975-11-14 </p>\\n                <p class=\"text-right\">By Mr. Mark Hill </p>\\n            </div>\\n            <p>Consider defense really answer. Standard particularly so art picture poor hand.\\nRead budget statement task. Blue think democratic recently side offer.</p>\\n        </div>\\n    </div>\\n    \\n    <div class=\"grid grid-cols-4 gap-x-4 border rounded pr-3 bg-green-50 hover:shadow-lg transition duration-500\">\\n        <img src=\"/static/placeholder.png\" />\\n        <div class=\"col-span-3 space-y-3 py-3\">\\n            <h2 class=\"text-2xl text-green-900\">degree improve easy</h2>\\n            <div class=\"grid grid-cols-2 italic\">\\n                <p> 1999-05-10 </p>\\n                <p class=\"text-right\">By Richard Fry </p>\\n            </div>\\n            <p>Central enough police point. Exist president actually choice popular particular force.\\nImage health bag data.</p>\\n        </div>\\n    </div>\\n    \\n    <div class=\"grid grid-cols-4 gap-x-4 border rounded pr-3 bg-green-50 hover:shadow-lg transition duration-500\">\\n        <img src=\"/static/placeholder.png\" />\\n        <div class=\"col-span-3 space-y-3 py-3\">\\n            <h2 class=\"text-2xl text-green-900\">federal sure quality</h2>\\n            <div class=\"grid grid-cols-2 italic\">\\n                <p> 2017-09-27 </p>\\n                <p class=\"text-right\">By Eric Rowe </p>\\n            </div>\\n            <p>Forget green quickly agreement. Tell guess three political nice show book nothing.\\nEye season today. Course young wear young manager become especially claim. Cause argue must Congress story evening can trouble.</p>\\n        </div>\\n    </div>\\n    \\n    <div class=\"grid grid-cols-4 gap-x-4 border rounded pr-3 bg-green-50 hover:shadow-lg transition duration-500\">\\n        <img src=\"/static/placeholder.png\" />\\n        <div class=\"col-span-3 space-y-3 py-3\">\\n            <h2 class=\"text-2xl text-green-900\">organization trade business</h2>\\n            <div class=\"grid grid-cols-2 italic\">\\n                <p> 2012-03-05 </p>\\n                <p class=\"text-right\">By Jason White </p>\\n            </div>\\n            <p>Movement money watch quality true anyone education. Why my wall.\\nPast perform six wonder while. Station girl act ago animal these. Eye happen population month almost size walk. Through financial anyone.</p>\\n        </div>\\n    </div>\\n    \\n    <div class=\"grid grid-cols-4 gap-x-4 border rounded pr-3 bg-green-50 hover:shadow-lg transition duration-500\">\\n        <img src=\"/static/placeholder.png\" />\\n        <div class=\"col-span-3 space-y-3 py-3\">\\n            <h2 class=\"text-2xl text-green-900\">tell spend local</h2>\\n            <div class=\"grid grid-cols-2 italic\">\\n                <p> 2000-05-30 </p>\\n                <p class=\"text-right\">By Phillip Parker </p>\\n            </div>\\n            <p>Administration rate drug threat finish whose significant during. Enjoy leader remain concern art themselves understand.\\nCommercial society away social everything better sort impact. Score family name management community effort.</p>\\n        </div>\\n    </div>\\n    \\n    <div class=\"grid grid-cols-4 gap-x-4 border rounded pr-3 bg-green-50 hover:shadow-lg transition duration-500\">\\n        <img src=\"/static/placeholder.png\" />\\n        <div class=\"col-span-3 space-y-3 py-3\">\\n            <h2 class=\"text-2xl text-green-900\">election risk know</h2>\\n            <div class=\"grid grid-cols-2 italic\">\\n                <p> 1972-10-17 </p>\\n                <p class=\"text-right\">By Lonnie Lopez </p>\\n            </div>\\n            <p>When generation idea form smile effort industry. Gas feeling positive health international. Picture southern newspaper strong job.\\nLarge either southern. Summer myself structure must staff. Hotel first serious middle. Son might wind street.</p>\\n        </div>\\n    </div>\\n    \\n</div>\\n\\n</body>\\n</html>'"
      ]
     },
     "execution_count": 2,
     "metadata": {},
     "output_type": "execute_result"
    }
   ],
   "source": [
    "response = requests.get('https://web-scraping-demo.zgulde.net/news')\n",
    "html = response.text\n",
    "html"
   ]
  },
  {
   "cell_type": "markdown",
   "metadata": {},
   "source": [
    "We can make more sense of that html with the beautiful soup library."
   ]
  },
  {
   "cell_type": "code",
   "execution_count": 3,
   "metadata": {},
   "outputs": [
    {
     "name": "stdout",
     "output_type": "stream",
     "text": [
      "<!DOCTYPE html>\n",
      "<html lang=\"en\">\n",
      " <head>\n",
      "  <meta charset=\"utf-8\"/>\n",
      "  <meta content=\"IE=edge\" http-equiv=\"X-UA-Compatible\"/>\n",
      "  <meta content=\"width=device-width, initial-scale=1.0\" name=\"viewport\"/>\n",
      "  <title>\n",
      "   News Example Page\n",
      "  </title>\n",
      "  <link href=\"https://unpkg.com/tailwindcss@^2/dist/tailwind.min.css\" rel=\"stylesheet\"/>\n",
      "  <link href=\"https://cdn.jsdelivr.net/npm/bootstrap-icons@1.4.1/font/bootstrap-icons.css\" rel=\"stylesheet\"/>\n",
      " </head>\n",
      " <body class=\"mx-auto max-w-screen-lg pb-32\">\n",
      "  <h1 class=\"my-5 text-4xl text-center\">\n",
      "   News!\n",
      "  </h1>\n",
      "  <div class=\"my-5 text-red-800 px-5 py-3 bg-red-100 font-bold\">\n",
      "   <p>\n",
      "    <i class=\"bi bi-exclamation-circle text-xl\">\n",
      "    </i>\n",
      "    All data on this page is strictly for demonstration purposes and fake.\n",
      "   </p>\n",
      "  </div>\n",
      "  <div class=\"grid gap-y-12\">\n",
      "   <div class=\"grid grid-cols-4 gap-x-4 border rounded pr-3 bg-green-50 hover:shadow-lg transition duration-500\">\n",
      "    <img src=\"/static/placeholder.png\"/>\n",
      "    <div class=\"col-span-3 space-y-3 py-3\">\n",
      "     <h2 class=\"text-2xl text-green-900\">\n",
      "      in question try\n",
      "     </h2>\n",
      "     <div class=\"grid grid-cols-2 italic\">\n",
      "      <p>\n",
      "       2003-04-26\n",
      "      </p>\n",
      "      <p class=\"text-right\">\n",
      "       By Timothy Moreno DDS\n",
      "      </p>\n",
      "     </div>\n",
      "     <p>\n",
      "      Option policy store activity fly relationship. Keep guy fine anyone contain.\n",
      "Everything turn bill behind. Attention simple choice per.\n",
      "     </p>\n",
      "    </div>\n",
      "   </div>\n",
      "   <div class=\"grid grid-cols-4 gap-x-4 border rounded pr-3 bg-green-50 hover:shadow-lg transition duration-500\">\n",
      "    <img src=\"/static/placeholder.png\"/>\n",
      "    <div class=\"col-span-3 space-y-3 py-3\">\n",
      "     <h2 class=\"text-2xl text-green-900\">\n",
      "      series I level\n",
      "     </h2>\n",
      "     <div class=\"grid grid-cols-2 italic\">\n",
      "      <p>\n",
      "       1988-02-13\n",
      "      </p>\n",
      "      <p class=\"text-right\">\n",
      "       By Matthew Bryant\n",
      "      </p>\n",
      "     </div>\n",
      "     <p>\n",
      "      Development what part water issue major. Daughter win leg buy such say industry.\n",
      "Three quickly skill make eight capital help. Scientist beautiful camera site child for yard consumer. Republican them with up reach conference.\n",
      "     </p>\n",
      "    </div>\n",
      "   </div>\n",
      "   <div class=\"grid grid-cols-4 gap-x-4 border rounded pr-3 bg-green-50 hover:shadow-lg transition duration-500\">\n",
      "    <img src=\"/static/placeholder.png\"/>\n",
      "    <div class=\"col-span-3 space-y-3 py-3\">\n",
      "     <h2 class=\"text-2xl text-green-900\">\n",
      "      past member generation\n",
      "     </h2>\n",
      "     <div class=\"grid grid-cols-2 italic\">\n",
      "      <p>\n",
      "       1981-02-16\n",
      "      </p>\n",
      "      <p class=\"text-right\">\n",
      "       By Ashley Taylor\n",
      "      </p>\n",
      "     </div>\n",
      "     <p>\n",
      "      Mother chair their teach simple. Senior test among if.\n",
      "Color coach lead provide. About first police parent growth up although.\n",
      "     </p>\n",
      "    </div>\n",
      "   </div>\n",
      "   <div class=\"grid grid-cols-4 gap-x-4 border rounded pr-3 bg-green-50 hover:shadow-lg transition duration-500\">\n",
      "    <img src=\"/static/placeholder.png\"/>\n",
      "    <div class=\"col-span-3 space-y-3 py-3\">\n",
      "     <h2 class=\"text-2xl text-green-900\">\n",
      "      simple drop among\n",
      "     </h2>\n",
      "     <div class=\"grid grid-cols-2 italic\">\n",
      "      <p>\n",
      "       2003-05-22\n",
      "      </p>\n",
      "      <p class=\"text-right\">\n",
      "       By Danielle Haynes\n",
      "      </p>\n",
      "     </div>\n",
      "     <p>\n",
      "      Happy only pass travel modern either. Year address outside grow word finally worker perhaps. Once term window travel.\n",
      "Soon agree audience report brother customer among argue. Social relationship he outside. Participant read method himself.\n",
      "     </p>\n",
      "    </div>\n",
      "   </div>\n",
      "   <div class=\"grid grid-cols-4 gap-x-4 border rounded pr-3 bg-green-50 hover:shadow-lg transition duration-500\">\n",
      "    <img src=\"/static/placeholder.png\"/>\n",
      "    <div class=\"col-span-3 space-y-3 py-3\">\n",
      "     <h2 class=\"text-2xl text-green-900\">\n",
      "      end difference compare\n",
      "     </h2>\n",
      "     <div class=\"grid grid-cols-2 italic\">\n",
      "      <p>\n",
      "       1984-07-21\n",
      "      </p>\n",
      "      <p class=\"text-right\">\n",
      "       By Danny Boyd\n",
      "      </p>\n",
      "     </div>\n",
      "     <p>\n",
      "      Time along lead each for prevent. Deal bit simple policy research ask half. Technology smile left arrive soldier baby knowledge.\n",
      "Next no learn in natural theory perhaps. Vote thousand discussion anyone garden real.\n",
      "     </p>\n",
      "    </div>\n",
      "   </div>\n",
      "   <div class=\"grid grid-cols-4 gap-x-4 border rounded pr-3 bg-green-50 hover:shadow-lg transition duration-500\">\n",
      "    <img src=\"/static/placeholder.png\"/>\n",
      "    <div class=\"col-span-3 space-y-3 py-3\">\n",
      "     <h2 class=\"text-2xl text-green-900\">\n",
      "      my step should\n",
      "     </h2>\n",
      "     <div class=\"grid grid-cols-2 italic\">\n",
      "      <p>\n",
      "       2004-12-15\n",
      "      </p>\n",
      "      <p class=\"text-right\">\n",
      "       By Joseph Baker\n",
      "      </p>\n",
      "     </div>\n",
      "     <p>\n",
      "      Republican they listen hold TV. Choice mean score box movement ago. Prevent treatment court wait. Make lose do memory option eight.\n",
      "Huge others go student discuss agree. Serve nothing agency step method president. Quite rest reduce exist challenge student but. Sort clear evidence friend read.\n",
      "     </p>\n",
      "    </div>\n",
      "   </div>\n",
      "   <div class=\"grid grid-cols-4 gap-x-4 border rounded pr-3 bg-green-50 hover:shadow-lg transition duration-500\">\n",
      "    <img src=\"/static/placeholder.png\"/>\n",
      "    <div class=\"col-span-3 space-y-3 py-3\">\n",
      "     <h2 class=\"text-2xl text-green-900\">\n",
      "      pretty television various\n",
      "     </h2>\n",
      "     <div class=\"grid grid-cols-2 italic\">\n",
      "      <p>\n",
      "       1975-11-14\n",
      "      </p>\n",
      "      <p class=\"text-right\">\n",
      "       By Mr. Mark Hill\n",
      "      </p>\n",
      "     </div>\n",
      "     <p>\n",
      "      Consider defense really answer. Standard particularly so art picture poor hand.\n",
      "Read budget statement task. Blue think democratic recently side offer.\n",
      "     </p>\n",
      "    </div>\n",
      "   </div>\n",
      "   <div class=\"grid grid-cols-4 gap-x-4 border rounded pr-3 bg-green-50 hover:shadow-lg transition duration-500\">\n",
      "    <img src=\"/static/placeholder.png\"/>\n",
      "    <div class=\"col-span-3 space-y-3 py-3\">\n",
      "     <h2 class=\"text-2xl text-green-900\">\n",
      "      degree improve easy\n",
      "     </h2>\n",
      "     <div class=\"grid grid-cols-2 italic\">\n",
      "      <p>\n",
      "       1999-05-10\n",
      "      </p>\n",
      "      <p class=\"text-right\">\n",
      "       By Richard Fry\n",
      "      </p>\n",
      "     </div>\n",
      "     <p>\n",
      "      Central enough police point. Exist president actually choice popular particular force.\n",
      "Image health bag data.\n",
      "     </p>\n",
      "    </div>\n",
      "   </div>\n",
      "   <div class=\"grid grid-cols-4 gap-x-4 border rounded pr-3 bg-green-50 hover:shadow-lg transition duration-500\">\n",
      "    <img src=\"/static/placeholder.png\"/>\n",
      "    <div class=\"col-span-3 space-y-3 py-3\">\n",
      "     <h2 class=\"text-2xl text-green-900\">\n",
      "      federal sure quality\n",
      "     </h2>\n",
      "     <div class=\"grid grid-cols-2 italic\">\n",
      "      <p>\n",
      "       2017-09-27\n",
      "      </p>\n",
      "      <p class=\"text-right\">\n",
      "       By Eric Rowe\n",
      "      </p>\n",
      "     </div>\n",
      "     <p>\n",
      "      Forget green quickly agreement. Tell guess three political nice show book nothing.\n",
      "Eye season today. Course young wear young manager become especially claim. Cause argue must Congress story evening can trouble.\n",
      "     </p>\n",
      "    </div>\n",
      "   </div>\n",
      "   <div class=\"grid grid-cols-4 gap-x-4 border rounded pr-3 bg-green-50 hover:shadow-lg transition duration-500\">\n",
      "    <img src=\"/static/placeholder.png\"/>\n",
      "    <div class=\"col-span-3 space-y-3 py-3\">\n",
      "     <h2 class=\"text-2xl text-green-900\">\n",
      "      organization trade business\n",
      "     </h2>\n",
      "     <div class=\"grid grid-cols-2 italic\">\n",
      "      <p>\n",
      "       2012-03-05\n",
      "      </p>\n",
      "      <p class=\"text-right\">\n",
      "       By Jason White\n",
      "      </p>\n",
      "     </div>\n",
      "     <p>\n",
      "      Movement money watch quality true anyone education. Why my wall.\n",
      "Past perform six wonder while. Station girl act ago animal these. Eye happen population month almost size walk. Through financial anyone.\n",
      "     </p>\n",
      "    </div>\n",
      "   </div>\n",
      "   <div class=\"grid grid-cols-4 gap-x-4 border rounded pr-3 bg-green-50 hover:shadow-lg transition duration-500\">\n",
      "    <img src=\"/static/placeholder.png\"/>\n",
      "    <div class=\"col-span-3 space-y-3 py-3\">\n",
      "     <h2 class=\"text-2xl text-green-900\">\n",
      "      tell spend local\n",
      "     </h2>\n",
      "     <div class=\"grid grid-cols-2 italic\">\n",
      "      <p>\n",
      "       2000-05-30\n",
      "      </p>\n",
      "      <p class=\"text-right\">\n",
      "       By Phillip Parker\n",
      "      </p>\n",
      "     </div>\n",
      "     <p>\n",
      "      Administration rate drug threat finish whose significant during. Enjoy leader remain concern art themselves understand.\n",
      "Commercial society away social everything better sort impact. Score family name management community effort.\n",
      "     </p>\n",
      "    </div>\n",
      "   </div>\n",
      "   <div class=\"grid grid-cols-4 gap-x-4 border rounded pr-3 bg-green-50 hover:shadow-lg transition duration-500\">\n",
      "    <img src=\"/static/placeholder.png\"/>\n",
      "    <div class=\"col-span-3 space-y-3 py-3\">\n",
      "     <h2 class=\"text-2xl text-green-900\">\n",
      "      election risk know\n",
      "     </h2>\n",
      "     <div class=\"grid grid-cols-2 italic\">\n",
      "      <p>\n",
      "       1972-10-17\n",
      "      </p>\n",
      "      <p class=\"text-right\">\n",
      "       By Lonnie Lopez\n",
      "      </p>\n",
      "     </div>\n",
      "     <p>\n",
      "      When generation idea form smile effort industry. Gas feeling positive health international. Picture southern newspaper strong job.\n",
      "Large either southern. Summer myself structure must staff. Hotel first serious middle. Son might wind street.\n",
      "     </p>\n",
      "    </div>\n",
      "   </div>\n",
      "  </div>\n",
      " </body>\n",
      "</html>\n"
     ]
    }
   ],
   "source": [
    "soup = BeautifulSoup(html)\n",
    "print(soup.prettify())"
   ]
  },
  {
   "cell_type": "markdown",
   "metadata": {},
   "source": [
    "From here we can switch between the browser and python and try out different ways of getting different parts of the html document.\n",
    "\n",
    "We can leverage Google Chrome's developer tools by right clicking and choosing \"Inspect\". We can then use this html document inspector to help us with our web scraping."
   ]
  },
  {
   "cell_type": "code",
   "execution_count": null,
   "metadata": {},
   "outputs": [],
   "source": [
    "# Use beautifulsoup methods to extract necessary content from an article"
   ]
  },
  {
   "cell_type": "code",
   "execution_count": 6,
   "metadata": {},
   "outputs": [
    {
     "data": {
      "text/plain": [
       "[<div class=\"grid grid-cols-4 gap-x-4 border rounded pr-3 bg-green-50 hover:shadow-lg transition duration-500\">\n",
       " <img src=\"/static/placeholder.png\"/>\n",
       " <div class=\"col-span-3 space-y-3 py-3\">\n",
       " <h2 class=\"text-2xl text-green-900\">in question try</h2>\n",
       " <div class=\"grid grid-cols-2 italic\">\n",
       " <p> 2003-04-26 </p>\n",
       " <p class=\"text-right\">By Timothy Moreno DDS </p>\n",
       " </div>\n",
       " <p>Option policy store activity fly relationship. Keep guy fine anyone contain.\n",
       " Everything turn bill behind. Attention simple choice per.</p>\n",
       " </div>\n",
       " </div>,\n",
       " <div class=\"grid grid-cols-4 gap-x-4 border rounded pr-3 bg-green-50 hover:shadow-lg transition duration-500\">\n",
       " <img src=\"/static/placeholder.png\"/>\n",
       " <div class=\"col-span-3 space-y-3 py-3\">\n",
       " <h2 class=\"text-2xl text-green-900\">series I level</h2>\n",
       " <div class=\"grid grid-cols-2 italic\">\n",
       " <p> 1988-02-13 </p>\n",
       " <p class=\"text-right\">By Matthew Bryant </p>\n",
       " </div>\n",
       " <p>Development what part water issue major. Daughter win leg buy such say industry.\n",
       " Three quickly skill make eight capital help. Scientist beautiful camera site child for yard consumer. Republican them with up reach conference.</p>\n",
       " </div>\n",
       " </div>,\n",
       " <div class=\"grid grid-cols-4 gap-x-4 border rounded pr-3 bg-green-50 hover:shadow-lg transition duration-500\">\n",
       " <img src=\"/static/placeholder.png\"/>\n",
       " <div class=\"col-span-3 space-y-3 py-3\">\n",
       " <h2 class=\"text-2xl text-green-900\">past member generation</h2>\n",
       " <div class=\"grid grid-cols-2 italic\">\n",
       " <p> 1981-02-16 </p>\n",
       " <p class=\"text-right\">By Ashley Taylor </p>\n",
       " </div>\n",
       " <p>Mother chair their teach simple. Senior test among if.\n",
       " Color coach lead provide. About first police parent growth up although.</p>\n",
       " </div>\n",
       " </div>,\n",
       " <div class=\"grid grid-cols-4 gap-x-4 border rounded pr-3 bg-green-50 hover:shadow-lg transition duration-500\">\n",
       " <img src=\"/static/placeholder.png\"/>\n",
       " <div class=\"col-span-3 space-y-3 py-3\">\n",
       " <h2 class=\"text-2xl text-green-900\">simple drop among</h2>\n",
       " <div class=\"grid grid-cols-2 italic\">\n",
       " <p> 2003-05-22 </p>\n",
       " <p class=\"text-right\">By Danielle Haynes </p>\n",
       " </div>\n",
       " <p>Happy only pass travel modern either. Year address outside grow word finally worker perhaps. Once term window travel.\n",
       " Soon agree audience report brother customer among argue. Social relationship he outside. Participant read method himself.</p>\n",
       " </div>\n",
       " </div>,\n",
       " <div class=\"grid grid-cols-4 gap-x-4 border rounded pr-3 bg-green-50 hover:shadow-lg transition duration-500\">\n",
       " <img src=\"/static/placeholder.png\"/>\n",
       " <div class=\"col-span-3 space-y-3 py-3\">\n",
       " <h2 class=\"text-2xl text-green-900\">end difference compare</h2>\n",
       " <div class=\"grid grid-cols-2 italic\">\n",
       " <p> 1984-07-21 </p>\n",
       " <p class=\"text-right\">By Danny Boyd </p>\n",
       " </div>\n",
       " <p>Time along lead each for prevent. Deal bit simple policy research ask half. Technology smile left arrive soldier baby knowledge.\n",
       " Next no learn in natural theory perhaps. Vote thousand discussion anyone garden real.</p>\n",
       " </div>\n",
       " </div>,\n",
       " <div class=\"grid grid-cols-4 gap-x-4 border rounded pr-3 bg-green-50 hover:shadow-lg transition duration-500\">\n",
       " <img src=\"/static/placeholder.png\"/>\n",
       " <div class=\"col-span-3 space-y-3 py-3\">\n",
       " <h2 class=\"text-2xl text-green-900\">my step should</h2>\n",
       " <div class=\"grid grid-cols-2 italic\">\n",
       " <p> 2004-12-15 </p>\n",
       " <p class=\"text-right\">By Joseph Baker </p>\n",
       " </div>\n",
       " <p>Republican they listen hold TV. Choice mean score box movement ago. Prevent treatment court wait. Make lose do memory option eight.\n",
       " Huge others go student discuss agree. Serve nothing agency step method president. Quite rest reduce exist challenge student but. Sort clear evidence friend read.</p>\n",
       " </div>\n",
       " </div>,\n",
       " <div class=\"grid grid-cols-4 gap-x-4 border rounded pr-3 bg-green-50 hover:shadow-lg transition duration-500\">\n",
       " <img src=\"/static/placeholder.png\"/>\n",
       " <div class=\"col-span-3 space-y-3 py-3\">\n",
       " <h2 class=\"text-2xl text-green-900\">pretty television various</h2>\n",
       " <div class=\"grid grid-cols-2 italic\">\n",
       " <p> 1975-11-14 </p>\n",
       " <p class=\"text-right\">By Mr. Mark Hill </p>\n",
       " </div>\n",
       " <p>Consider defense really answer. Standard particularly so art picture poor hand.\n",
       " Read budget statement task. Blue think democratic recently side offer.</p>\n",
       " </div>\n",
       " </div>,\n",
       " <div class=\"grid grid-cols-4 gap-x-4 border rounded pr-3 bg-green-50 hover:shadow-lg transition duration-500\">\n",
       " <img src=\"/static/placeholder.png\"/>\n",
       " <div class=\"col-span-3 space-y-3 py-3\">\n",
       " <h2 class=\"text-2xl text-green-900\">degree improve easy</h2>\n",
       " <div class=\"grid grid-cols-2 italic\">\n",
       " <p> 1999-05-10 </p>\n",
       " <p class=\"text-right\">By Richard Fry </p>\n",
       " </div>\n",
       " <p>Central enough police point. Exist president actually choice popular particular force.\n",
       " Image health bag data.</p>\n",
       " </div>\n",
       " </div>,\n",
       " <div class=\"grid grid-cols-4 gap-x-4 border rounded pr-3 bg-green-50 hover:shadow-lg transition duration-500\">\n",
       " <img src=\"/static/placeholder.png\"/>\n",
       " <div class=\"col-span-3 space-y-3 py-3\">\n",
       " <h2 class=\"text-2xl text-green-900\">federal sure quality</h2>\n",
       " <div class=\"grid grid-cols-2 italic\">\n",
       " <p> 2017-09-27 </p>\n",
       " <p class=\"text-right\">By Eric Rowe </p>\n",
       " </div>\n",
       " <p>Forget green quickly agreement. Tell guess three political nice show book nothing.\n",
       " Eye season today. Course young wear young manager become especially claim. Cause argue must Congress story evening can trouble.</p>\n",
       " </div>\n",
       " </div>,\n",
       " <div class=\"grid grid-cols-4 gap-x-4 border rounded pr-3 bg-green-50 hover:shadow-lg transition duration-500\">\n",
       " <img src=\"/static/placeholder.png\"/>\n",
       " <div class=\"col-span-3 space-y-3 py-3\">\n",
       " <h2 class=\"text-2xl text-green-900\">organization trade business</h2>\n",
       " <div class=\"grid grid-cols-2 italic\">\n",
       " <p> 2012-03-05 </p>\n",
       " <p class=\"text-right\">By Jason White </p>\n",
       " </div>\n",
       " <p>Movement money watch quality true anyone education. Why my wall.\n",
       " Past perform six wonder while. Station girl act ago animal these. Eye happen population month almost size walk. Through financial anyone.</p>\n",
       " </div>\n",
       " </div>,\n",
       " <div class=\"grid grid-cols-4 gap-x-4 border rounded pr-3 bg-green-50 hover:shadow-lg transition duration-500\">\n",
       " <img src=\"/static/placeholder.png\"/>\n",
       " <div class=\"col-span-3 space-y-3 py-3\">\n",
       " <h2 class=\"text-2xl text-green-900\">tell spend local</h2>\n",
       " <div class=\"grid grid-cols-2 italic\">\n",
       " <p> 2000-05-30 </p>\n",
       " <p class=\"text-right\">By Phillip Parker </p>\n",
       " </div>\n",
       " <p>Administration rate drug threat finish whose significant during. Enjoy leader remain concern art themselves understand.\n",
       " Commercial society away social everything better sort impact. Score family name management community effort.</p>\n",
       " </div>\n",
       " </div>,\n",
       " <div class=\"grid grid-cols-4 gap-x-4 border rounded pr-3 bg-green-50 hover:shadow-lg transition duration-500\">\n",
       " <img src=\"/static/placeholder.png\"/>\n",
       " <div class=\"col-span-3 space-y-3 py-3\">\n",
       " <h2 class=\"text-2xl text-green-900\">election risk know</h2>\n",
       " <div class=\"grid grid-cols-2 italic\">\n",
       " <p> 1972-10-17 </p>\n",
       " <p class=\"text-right\">By Lonnie Lopez </p>\n",
       " </div>\n",
       " <p>When generation idea form smile effort industry. Gas feeling positive health international. Picture southern newspaper strong job.\n",
       " Large either southern. Summer myself structure must staff. Hotel first serious middle. Son might wind street.</p>\n",
       " </div>\n",
       " </div>]"
      ]
     },
     "execution_count": 6,
     "metadata": {},
     "output_type": "execute_result"
    }
   ],
   "source": [
    "articles = soup.select('.grid-cols-4')\n",
    "articles"
   ]
  },
  {
   "cell_type": "code",
   "execution_count": 11,
   "metadata": {
    "scrolled": true
   },
   "outputs": [
    {
     "data": {
      "text/plain": [
       "<div class=\"grid grid-cols-4 gap-x-4 border rounded pr-3 bg-green-50 hover:shadow-lg transition duration-500\">\n",
       "<img src=\"/static/placeholder.png\"/>\n",
       "<div class=\"col-span-3 space-y-3 py-3\">\n",
       "<h2 class=\"text-2xl text-green-900\">in question try</h2>\n",
       "<div class=\"grid grid-cols-2 italic\">\n",
       "<p> 2003-04-26 </p>\n",
       "<p class=\"text-right\">By Timothy Moreno DDS </p>\n",
       "</div>\n",
       "<p>Option policy store activity fly relationship. Keep guy fine anyone contain.\n",
       "Everything turn bill behind. Attention simple choice per.</p>\n",
       "</div>\n",
       "</div>"
      ]
     },
     "execution_count": 11,
     "metadata": {},
     "output_type": "execute_result"
    }
   ],
   "source": [
    "article = articles[0]\n",
    "article"
   ]
  },
  {
   "cell_type": "code",
   "execution_count": 13,
   "metadata": {},
   "outputs": [
    {
     "data": {
      "text/plain": [
       "'in question try'"
      ]
     },
     "execution_count": 13,
     "metadata": {},
     "output_type": "execute_result"
    }
   ],
   "source": [
    "headline = article.h2.text\n",
    "headline"
   ]
  },
  {
   "cell_type": "code",
   "execution_count": 16,
   "metadata": {},
   "outputs": [
    {
     "data": {
      "text/plain": [
       "'2003-04-26'"
      ]
     },
     "execution_count": 16,
     "metadata": {},
     "output_type": "execute_result"
    }
   ],
   "source": [
    "date = article.p.text.strip()\n",
    "date"
   ]
  },
  {
   "cell_type": "code",
   "execution_count": 22,
   "metadata": {},
   "outputs": [
    {
     "data": {
      "text/plain": [
       "'Timothy Moreno DDS'"
      ]
     },
     "execution_count": 22,
     "metadata": {},
     "output_type": "execute_result"
    }
   ],
   "source": [
    "author = article.select('.text-right')[0].text.strip()[3:]\n",
    "author"
   ]
  },
  {
   "cell_type": "code",
   "execution_count": 28,
   "metadata": {},
   "outputs": [
    {
     "data": {
      "text/plain": [
       "'Option policy store activity fly relationship. Keep guy fine anyone contain.\\nEverything turn bill behind. Attention simple choice per.'"
      ]
     },
     "execution_count": 28,
     "metadata": {},
     "output_type": "execute_result"
    }
   ],
   "source": [
    "content = article.select('p')[-1].text\n",
    "content"
   ]
  },
  {
   "cell_type": "markdown",
   "metadata": {},
   "source": [
    "Bringing it all together: Make a function"
   ]
  },
  {
   "cell_type": "code",
   "execution_count": 29,
   "metadata": {},
   "outputs": [],
   "source": [
    "def parse_news(article):\n",
    "    headline = article.h2.text\n",
    "    date = article.p.text.strip()\n",
    "    author = article.select('.text-right')[0].text.strip()[3:]\n",
    "    content = article.select('p')[-1].text\n",
    "   \n",
    "    return {\n",
    "        'headline': headline, 'date': date, 'author': author,\n",
    "        'content': content\n",
    "    }"
   ]
  },
  {
   "cell_type": "code",
   "execution_count": 31,
   "metadata": {
    "scrolled": true
   },
   "outputs": [
    {
     "data": {
      "text/plain": [
       "{'headline': 'in question try',\n",
       " 'date': '2003-04-26',\n",
       " 'author': 'Timothy Moreno DDS',\n",
       " 'content': 'Option policy store activity fly relationship. Keep guy fine anyone contain.\\nEverything turn bill behind. Attention simple choice per.'}"
      ]
     },
     "execution_count": 31,
     "metadata": {},
     "output_type": "execute_result"
    }
   ],
   "source": [
    "parse_news(article)"
   ]
  },
  {
   "cell_type": "code",
   "execution_count": 33,
   "metadata": {},
   "outputs": [
    {
     "data": {
      "text/html": [
       "<div>\n",
       "<style scoped>\n",
       "    .dataframe tbody tr th:only-of-type {\n",
       "        vertical-align: middle;\n",
       "    }\n",
       "\n",
       "    .dataframe tbody tr th {\n",
       "        vertical-align: top;\n",
       "    }\n",
       "\n",
       "    .dataframe thead th {\n",
       "        text-align: right;\n",
       "    }\n",
       "</style>\n",
       "<table border=\"1\" class=\"dataframe\">\n",
       "  <thead>\n",
       "    <tr style=\"text-align: right;\">\n",
       "      <th></th>\n",
       "      <th>headline</th>\n",
       "      <th>date</th>\n",
       "      <th>author</th>\n",
       "      <th>content</th>\n",
       "    </tr>\n",
       "  </thead>\n",
       "  <tbody>\n",
       "    <tr>\n",
       "      <th>0</th>\n",
       "      <td>in question try</td>\n",
       "      <td>2003-04-26</td>\n",
       "      <td>Timothy Moreno DDS</td>\n",
       "      <td>Option policy store activity fly relationship....</td>\n",
       "    </tr>\n",
       "    <tr>\n",
       "      <th>1</th>\n",
       "      <td>series I level</td>\n",
       "      <td>1988-02-13</td>\n",
       "      <td>Matthew Bryant</td>\n",
       "      <td>Development what part water issue major. Daugh...</td>\n",
       "    </tr>\n",
       "    <tr>\n",
       "      <th>2</th>\n",
       "      <td>past member generation</td>\n",
       "      <td>1981-02-16</td>\n",
       "      <td>Ashley Taylor</td>\n",
       "      <td>Mother chair their teach simple. Senior test a...</td>\n",
       "    </tr>\n",
       "    <tr>\n",
       "      <th>3</th>\n",
       "      <td>simple drop among</td>\n",
       "      <td>2003-05-22</td>\n",
       "      <td>Danielle Haynes</td>\n",
       "      <td>Happy only pass travel modern either. Year add...</td>\n",
       "    </tr>\n",
       "    <tr>\n",
       "      <th>4</th>\n",
       "      <td>end difference compare</td>\n",
       "      <td>1984-07-21</td>\n",
       "      <td>Danny Boyd</td>\n",
       "      <td>Time along lead each for prevent. Deal bit sim...</td>\n",
       "    </tr>\n",
       "    <tr>\n",
       "      <th>5</th>\n",
       "      <td>my step should</td>\n",
       "      <td>2004-12-15</td>\n",
       "      <td>Joseph Baker</td>\n",
       "      <td>Republican they listen hold TV. Choice mean sc...</td>\n",
       "    </tr>\n",
       "    <tr>\n",
       "      <th>6</th>\n",
       "      <td>pretty television various</td>\n",
       "      <td>1975-11-14</td>\n",
       "      <td>Mr. Mark Hill</td>\n",
       "      <td>Consider defense really answer. Standard parti...</td>\n",
       "    </tr>\n",
       "    <tr>\n",
       "      <th>7</th>\n",
       "      <td>degree improve easy</td>\n",
       "      <td>1999-05-10</td>\n",
       "      <td>Richard Fry</td>\n",
       "      <td>Central enough police point. Exist president a...</td>\n",
       "    </tr>\n",
       "    <tr>\n",
       "      <th>8</th>\n",
       "      <td>federal sure quality</td>\n",
       "      <td>2017-09-27</td>\n",
       "      <td>Eric Rowe</td>\n",
       "      <td>Forget green quickly agreement. Tell guess thr...</td>\n",
       "    </tr>\n",
       "    <tr>\n",
       "      <th>9</th>\n",
       "      <td>organization trade business</td>\n",
       "      <td>2012-03-05</td>\n",
       "      <td>Jason White</td>\n",
       "      <td>Movement money watch quality true anyone educa...</td>\n",
       "    </tr>\n",
       "    <tr>\n",
       "      <th>10</th>\n",
       "      <td>tell spend local</td>\n",
       "      <td>2000-05-30</td>\n",
       "      <td>Phillip Parker</td>\n",
       "      <td>Administration rate drug threat finish whose s...</td>\n",
       "    </tr>\n",
       "    <tr>\n",
       "      <th>11</th>\n",
       "      <td>election risk know</td>\n",
       "      <td>1972-10-17</td>\n",
       "      <td>Lonnie Lopez</td>\n",
       "      <td>When generation idea form smile effort industr...</td>\n",
       "    </tr>\n",
       "  </tbody>\n",
       "</table>\n",
       "</div>"
      ],
      "text/plain": [
       "                       headline        date              author  \\\n",
       "0               in question try  2003-04-26  Timothy Moreno DDS   \n",
       "1                series I level  1988-02-13      Matthew Bryant   \n",
       "2        past member generation  1981-02-16       Ashley Taylor   \n",
       "3             simple drop among  2003-05-22     Danielle Haynes   \n",
       "4        end difference compare  1984-07-21          Danny Boyd   \n",
       "5                my step should  2004-12-15        Joseph Baker   \n",
       "6     pretty television various  1975-11-14       Mr. Mark Hill   \n",
       "7           degree improve easy  1999-05-10         Richard Fry   \n",
       "8          federal sure quality  2017-09-27           Eric Rowe   \n",
       "9   organization trade business  2012-03-05         Jason White   \n",
       "10             tell spend local  2000-05-30      Phillip Parker   \n",
       "11           election risk know  1972-10-17        Lonnie Lopez   \n",
       "\n",
       "                                              content  \n",
       "0   Option policy store activity fly relationship....  \n",
       "1   Development what part water issue major. Daugh...  \n",
       "2   Mother chair their teach simple. Senior test a...  \n",
       "3   Happy only pass travel modern either. Year add...  \n",
       "4   Time along lead each for prevent. Deal bit sim...  \n",
       "5   Republican they listen hold TV. Choice mean sc...  \n",
       "6   Consider defense really answer. Standard parti...  \n",
       "7   Central enough police point. Exist president a...  \n",
       "8   Forget green quickly agreement. Tell guess thr...  \n",
       "9   Movement money watch quality true anyone educa...  \n",
       "10  Administration rate drug threat finish whose s...  \n",
       "11  When generation idea form smile effort industr...  "
      ]
     },
     "execution_count": 33,
     "metadata": {},
     "output_type": "execute_result"
    }
   ],
   "source": [
    "# loop through all the articles\n",
    "pd.DataFrame([parse_news(article) for article in articles])"
   ]
  },
  {
   "cell_type": "markdown",
   "metadata": {},
   "source": [
    "## Scraping People"
   ]
  },
  {
   "cell_type": "code",
   "execution_count": null,
   "metadata": {},
   "outputs": [],
   "source": [
    "response = requests.get('https://web-scraping-demo.zgulde.net/people', headers={'user-agent': 'Codeup DS Hoppper'})\n",
    "soup = BeautifulSoup(response.text)"
   ]
  },
  {
   "cell_type": "code",
   "execution_count": null,
   "metadata": {},
   "outputs": [],
   "source": []
  },
  {
   "cell_type": "code",
   "execution_count": null,
   "metadata": {},
   "outputs": [],
   "source": [
    "# def parse_person(person):\n",
    "#     name = \n",
    "#     quote = \n",
    "#     email = \n",
    "#     phone = \n",
    "#     address = \n",
    "\n",
    "    \n",
    "#     return {\n",
    "#         'name': name, 'quote': quote, 'email': email,\n",
    "#         'phone': phone,\n",
    "#         'address': address\n",
    "#     }"
   ]
  },
  {
   "cell_type": "code",
   "execution_count": null,
   "metadata": {},
   "outputs": [],
   "source": [
    "# loop through all the persons\n"
   ]
  },
  {
   "cell_type": "markdown",
   "metadata": {},
   "source": [
    "## Web Scraping Etiquitte\n",
    "\n",
    "- respect the `robots.txt` file if present\n",
    "\n",
    "    * [Wikipedia: Robots exclusion standard](https://en.wikipedia.org/wiki/Robots_exclusion_standard)\n",
    "    * [robotstxt.org](http://www.robotstxt.org/robotstxt.html)\n",
    "    * [codeup's robots.txt](https://codeup.com/robots.txt)\n",
    "\n",
    "- use a descriptive user agent\n",
    "\n",
    "    ```python\n",
    "    requests.get('http://example.com', headers={'user-agent': 'codeup data science germain cohort'})\n",
    "    ```"
   ]
  },
  {
   "cell_type": "markdown",
   "metadata": {},
   "source": [
    "## Exercises\n",
    "\n",
    "#### Codeup Blog Articles\n",
    "\n",
    "Visit Codeup's Blog(http://codeup.com/blog/) and record the urls for at least 5 distinct blog posts. For each post, you should scrape at least the post's title and content.\n",
    "\n",
    "Encapsulate your work in a function named get_blog_articles that will return a list of dictionaries, with each dictionary representing one article. The shape of each dictionary should look like this:"
   ]
  },
  {
   "cell_type": "code",
   "execution_count": null,
   "metadata": {},
   "outputs": [],
   "source": [
    "response = requests.get('https://codeup.com/blog/', headers={'user-agent': 'Codeup DS Hopper'})\n",
    "soup = BeautifulSoup(response.text)"
   ]
  },
  {
   "cell_type": "code",
   "execution_count": null,
   "metadata": {},
   "outputs": [],
   "source": []
  }
 ],
 "metadata": {
  "interpreter": {
   "hash": "38cca0c38332a56087b24af0bc80247f4fced29cb4f7f437d91dc159adec9c4e"
  },
  "kernelspec": {
   "display_name": "Python 3 (ipykernel)",
   "language": "python",
   "name": "python3"
  },
  "language_info": {
   "codemirror_mode": {
    "name": "ipython",
    "version": 3
   },
   "file_extension": ".py",
   "mimetype": "text/x-python",
   "name": "python",
   "nbconvert_exporter": "python",
   "pygments_lexer": "ipython3",
   "version": "3.8.8"
  }
 },
 "nbformat": 4,
 "nbformat_minor": 4
}
