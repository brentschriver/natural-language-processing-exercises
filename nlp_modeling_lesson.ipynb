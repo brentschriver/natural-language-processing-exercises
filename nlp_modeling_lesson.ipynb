{
 "cells": [
  {
   "cell_type": "markdown",
   "id": "16df3f0b",
   "metadata": {},
   "source": [
    "# NLP Modeling Lesson\n",
    "\n",
    "In this lesson, we'll do a bit of feature engineering, and then model our text data. We'll be aiming to predict whether a given text message is spam or not, and trying to predict the category of news articles.\n",
    "\n",
    "## Feature Extraction: TF-IDF\n",
    "- **TF**: Term Frequency; how often a particular word appears in a document. \n",
    "\n",
    "        \"apple\" appears in this document 15 times\n",
    "- **IDF**: Inverse Document Frequency; a measure of how many (related) documents contain a particular word. \n",
    "\n",
    "        \"apple\" is found in 10 of the 58 documents in our sample\n",
    "        \n",
    "- **TF-IDF**: A combination of the two measures above.\n",
    "\n",
    "### TF: Term Frequency\n",
    "\n",
    "Term frequency can be calculated in a number of ways, all of which reflect how frequently a word appears in a document.\n",
    "\n",
    "- **Raw Count**: This is simply the count of the number of occurances of each word.\n",
    "- **Frequency**: The number of times each word appears divided by the total number of words.\n",
    "- **Augmented Frequency**: The frequency of each word divided by the maximum frequency. This can help prevent bias towards larger documents.\n",
    "\n",
    "Let's take a look at an example:"
   ]
  },
  {
   "cell_type": "code",
   "execution_count": 1,
   "id": "28767537",
   "metadata": {},
   "outputs": [
    {
     "ename": "ModuleNotFoundError",
     "evalue": "No module named 'prepare'",
     "output_type": "error",
     "traceback": [
      "\u001b[0;31m---------------------------------------------------------------------------\u001b[0m",
      "\u001b[0;31mModuleNotFoundError\u001b[0m                       Traceback (most recent call last)",
      "\u001b[0;32m/var/folders/jl/s3ptdwdx55v01d2g2wrs7vdc0000gn/T/ipykernel_6250/905977255.py\u001b[0m in \u001b[0;36m<module>\u001b[0;34m\u001b[0m\n\u001b[1;32m      6\u001b[0m \u001b[0;32mimport\u001b[0m \u001b[0mmatplotlib\u001b[0m\u001b[0;34m.\u001b[0m\u001b[0mpyplot\u001b[0m \u001b[0;32mas\u001b[0m \u001b[0mplt\u001b[0m\u001b[0;34m\u001b[0m\u001b[0;34m\u001b[0m\u001b[0m\n\u001b[1;32m      7\u001b[0m \u001b[0;34m\u001b[0m\u001b[0m\n\u001b[0;32m----> 8\u001b[0;31m \u001b[0;32mfrom\u001b[0m \u001b[0mprepare\u001b[0m \u001b[0;32mimport\u001b[0m \u001b[0mbasic_clean\u001b[0m\u001b[0;34m,\u001b[0m \u001b[0mlemmatize\u001b[0m\u001b[0;34m\u001b[0m\u001b[0;34m\u001b[0m\u001b[0m\n\u001b[0m",
      "\u001b[0;31mModuleNotFoundError\u001b[0m: No module named 'prepare'"
     ]
    }
   ],
   "source": [
    "from pprint import pprint\n",
    "\n",
    "import pandas as pd\n",
    "import numpy as np\n",
    "\n",
    "import matplotlib.pyplot as plt\n",
    "\n",
    "from prepare import basic_clean, lemmatize"
   ]
  },
  {
   "cell_type": "code",
   "execution_count": null,
   "id": "e1c44f07",
   "metadata": {},
   "outputs": [],
   "source": [
    "document = 'Mary had a little lamb, a little lamb, a little lamb.'\n",
    "\n",
    "# clean up the text\n",
    "document = document.lower().replace(',', '').replace('.', '')\n",
    "# transform into a series\n",
    "words = pd.Series(document.split())\n",
    "words"
   ]
  },
  {
   "cell_type": "markdown",
   "id": "459169ce",
   "metadata": {},
   "source": [
    "From the series we can extract the value_counts, which is our raw count for term frequency. Once we have the raw counts, we can calculate the other measures."
   ]
  },
  {
   "cell_type": "code",
   "execution_count": null,
   "id": "1d942b4a",
   "metadata": {},
   "outputs": [],
   "source": [
    "words.value_counts()"
   ]
  },
  {
   "cell_type": "code",
   "execution_count": null,
   "id": "784ec879",
   "metadata": {},
   "outputs": [],
   "source": [
    "lullaby = pd.DataFrame({'raw_count':words.value_counts()})\n",
    "lullaby"
   ]
  },
  {
   "cell_type": "code",
   "execution_count": null,
   "id": "9604b7ac",
   "metadata": {},
   "outputs": [],
   "source": [
    "lullaby['frequency'] = lullaby.raw_count.apply(lambda x: x/lullaby.raw_count.sum())\n",
    "lullaby"
   ]
  },
  {
   "cell_type": "code",
   "execution_count": null,
   "id": "f496ffd4",
   "metadata": {},
   "outputs": [],
   "source": [
    "lullaby['augmented_frequency'] = lullaby.frequency.apply(lambda x: x/lullaby.frequency.max())\n",
    "lullaby"
   ]
  },
  {
   "cell_type": "code",
   "execution_count": null,
   "id": "c3000d55",
   "metadata": {},
   "outputs": [],
   "source": [
    "# We can accomplish the same task using fewer computational resources using .assign\n",
    "(pd.DataFrame({'raw_count': words.value_counts()})\n",
    " .assign(frequency=lambda df: df.raw_count / df.raw_count.sum())\n",
    " .assign(augmented_frequency=lambda df: df.frequency / df.frequency.max()))"
   ]
  },
  {
   "cell_type": "markdown",
   "id": "c6fba147",
   "metadata": {},
   "source": [
    "**Takeaways**: These are simply numeric representations of one characteristic of the strings in our corpus (frequency). Aside from simply showing us that some words are more frequent than others, this information by itself doesn't provide us much value. "
   ]
  },
  {
   "cell_type": "markdown",
   "id": "44bdebed",
   "metadata": {},
   "source": [
    "## IDF: Inverse Document Frequency\n",
    "\n",
    "Inverse Document Frequency also provides information about individual words, but, in order to use this measure, we must have multiple documents, i.e. several different bodies of text.\n",
    "\n",
    "Inverse Document Frequency tells us how much **information** a word provides. It is based on how commonly a word appears across multiple documents. The metric is divised such that the more frequently a word appears, the lower the IDF for that word will be.\n",
    "\n",
    "      idf(word) = log(# of documents / # of documents containing word)\n",
    "      \n",
    "> If a given word doesn't appear in any documents, the denominator in the equation above would be zero, so some definitions of idf will add 1 to the denominator.\n",
    "\n",
    "For example, imagine we have 20 documents. We can visualize what the idf score looks like with the code below:"
   ]
  },
  {
   "cell_type": "code",
   "execution_count": null,
   "id": "fac7bc1f",
   "metadata": {},
   "outputs": [],
   "source": [
    "n_documents = 20\n",
    "\n",
    "x = np.arange(1, n_documents + 1)\n",
    "y = np.log(n_documents / x)\n",
    "\n",
    "plt.figure(figsize=(12, 8))\n",
    "plt.plot(x, y, marker='.')\n",
    "\n",
    "plt.xticks(x)\n",
    "plt.xlabel('# of Documents the word appears in')\n",
    "plt.ylabel('IDF')\n",
    "plt.title('IDF for a given word')"
   ]
  },
  {
   "cell_type": "markdown",
   "id": "f035fe18",
   "metadata": {},
   "source": [
    "**Takeaways**: Suppose you are trying to create a model that predicts whether a given corpus is written before 1900 or after 1900. If a word appears in every document of your sample, its not going to provide much insight. But if a word only appears in a small number of documents, then it could be representative of an underlying trend (i.e. \"afternoonified\" shows up in a small number of documents all of which were written before 1900).\n",
    "\n",
    "    High IDF = More information\n",
    "\n",
    "Let's look at an example of calculating IDF:"
   ]
  },
  {
   "cell_type": "code",
   "execution_count": null,
   "id": "885eb660",
   "metadata": {},
   "outputs": [],
   "source": [
    "# our 3 example documents\n",
    "documents = {\n",
    "    'news': 'Codeup announced last thursday that they just launched a new data science program. It is 18 weeks long.',\n",
    "    'description': 'Codeup\\'s data science program teaches hands on skills using Python and pandas.',\n",
    "    'context': 'Codeup\\'s data science program was created in response to a percieved lack of data science talent, and growing demand.'\n",
    "}\n",
    "pprint(documents)\n",
    "\n",
    "print('\\nCleaning and lemmatizing...\\n')\n",
    "\n",
    "documents = {topic: lemmatize(basic_clean(documents[topic])) for topic in documents}\n",
    "pprint(documents)"
   ]
  },
  {
   "cell_type": "code",
   "execution_count": null,
   "id": "a2ebbd34",
   "metadata": {},
   "outputs": [],
   "source": [
    "# Visualize document values to help explain our upcoming idf function\n",
    "documents.values()"
   ]
  },
  {
   "cell_type": "code",
   "execution_count": null,
   "id": "f4a39369",
   "metadata": {},
   "outputs": [],
   "source": [
    "def idf(word):\n",
    "    '''A simple way to calculate idf for demonstration. Note that this \n",
    "    function relies on a globally defined documents variable.'''\n",
    "    n_occurences = sum([1 for doc in documents.values() if word in doc])\n",
    "    return len(documents) / n_occurences"
   ]
  },
  {
   "cell_type": "code",
   "execution_count": null,
   "id": "c13182e5",
   "metadata": {},
   "outputs": [],
   "source": [
    "# Get a list of the unique words\n",
    "unique_words = pd.Series(' '.join(documents.values()).split()).unique()\n",
    "unique_words"
   ]
  },
  {
   "cell_type": "code",
   "execution_count": null,
   "id": "dd928fa9",
   "metadata": {},
   "outputs": [],
   "source": [
    "# put the unique words into a data frame\n",
    "(pd.DataFrame(dict(word=unique_words))\n",
    " # calculate the idf for each word\n",
    " .assign(idf=lambda df: df.word.apply(idf))\n",
    " # sort the data for presentation purposes\n",
    " .set_index('word')\n",
    " .sort_values(by='idf', ascending=False))"
   ]
  },
  {
   "cell_type": "markdown",
   "id": "23001665",
   "metadata": {},
   "source": [
    "**Takeaways**: Words with the lowest IDF score were found in every document. They do us no good in helping us to distinguish whether a given corpus was \"context\", \"description\", or \"news\". Words with high IDF scores are more strongly linked to a particular classification. \n",
    "\n",
    "But this sample is so small that we should be cautious in using the word \"on\" as a means to classify a future corpus. \n",
    "\n",
    "> The calculation for an individual IDF score requires a word **and** a set of documents.\n",
    "\n",
    "## TF-IDF\n",
    "\n",
    "TF-IDF is simply the multiplication of the two metrics we've discussed above. Let's calculate an TF-IDF for all of the words and documents:"
   ]
  },
  {
   "cell_type": "code",
   "execution_count": null,
   "id": "d5bd75de",
   "metadata": {},
   "outputs": [],
   "source": [
    "# We will create an empty list to store values for us as we iterate through our data\n",
    "tfs = []\n",
    "\n",
    "# Start by iterating over all the documents. We can use .items() to speed up our loop:\n",
    "documents.items()"
   ]
  },
  {
   "cell_type": "code",
   "execution_count": null,
   "id": "bc91974c",
   "metadata": {},
   "outputs": [],
   "source": [
    "# Create a for loop\n",
    "for doc, text in documents.items():\n",
    "    # We will make a dataframe that contains the term frequency for every word\n",
    "    df = (pd.Series(text.split())\n",
    "          .value_counts()\n",
    "          .reset_index()\n",
    "          .set_axis(['word', 'raw_count'], axis=1, inplace=False)\n",
    "          .assign(tf=lambda df: df.raw_count / df.shape[0])\n",
    "          .drop(columns='raw_count')\n",
    "          .assign(doc=doc))\n",
    "    # Then add that data frame to our list\n",
    "    tfs.append(df)"
   ]
  },
  {
   "cell_type": "code",
   "execution_count": null,
   "id": "e19375ad",
   "metadata": {},
   "outputs": [],
   "source": [
    "# What actually happened in that code block? Overexplanation using print statements:\n",
    "print(\"BEGINNING LOOP\")\n",
    "print(\"\\n\")\n",
    "for doc, text in documents.items():\n",
    "    print(\"Text being manipulated:\")\n",
    "    print('-----------------------------------------')\n",
    "    print(f'Document: {doc}')\n",
    "    print(f'Text: {text}')\n",
    "    print('\\n')\n",
    "    print(\"Step 1: Splitting the corpus into a list of words\")\n",
    "    print(\"df = (pd.Series(text.split()))\")\n",
    "    print('-----------------------------------------')\n",
    "    df = (pd.Series(text.split()))\n",
    "    print(df)\n",
    "    print('\\n')\n",
    "    \n",
    "    print(\"Step 2: Converting list of words into a value count array\")\n",
    "    print(\"df = df.value_counts()\")\n",
    "    print('-----------------------------------------')\n",
    "    df = df.value_counts()\n",
    "    print(df)\n",
    "    print('\\n')\n",
    "    \n",
    "    print(\"Step 3: Resetting the index\")\n",
    "    print(\"df = df.reset_index()\")\n",
    "    print('-----------------------------------------')\n",
    "    df = df.reset_index()\n",
    "    print(df)\n",
    "    print('\\n')\n",
    "    \n",
    "    print(\"Step 4: Relabeling the columns\")\n",
    "    print(\"df = df.set_axis(['word', 'raw_count'], axis=1, inplace=False)\")\n",
    "    print('-----------------------------------------')    \n",
    "    df = df.set_axis(['word', 'raw_count'], axis=1, inplace=False)\n",
    "    print(df)\n",
    "    print('\\n')    \n",
    "    \n",
    "    print(\"Step 5: Calculating the Term Frequency of Each Word within this one corpus\")\n",
    "    print(\"df['tf'] = df.raw_count.apply(lambda x: x/df.shape[0])\")\n",
    "    print('-----------------------------------------')      \n",
    "    df['tf'] = df.raw_count.apply(lambda x: x/df.shape[0])\n",
    "    print(df)\n",
    "    print('\\n')\n",
    "    \n",
    "    print(\"Step 6: Dropping the 'raw_count' column\")\n",
    "    print(\"df = df.drop(columns='raw_count')\")\n",
    "    print('-----------------------------------------')      \n",
    "    df = df.drop(columns='raw_count')\n",
    "    print(df)\n",
    "    print('\\n')    \n",
    "    \n",
    "    print(\"Step 6: Adding the document label for this corpus\")\n",
    "    print(\"df['doc'] = doc\")\n",
    "    print('-----------------------------------------') \n",
    "    df['doc'] = doc\n",
    "    print(df)\n",
    "    print('\\n')\n",
    "    print(\"ITERATION OF ELEMENT COMPLETE\")\n",
    "    print('\\n', '\\n')"
   ]
  },
  {
   "cell_type": "code",
   "execution_count": null,
   "id": "f2059a9a",
   "metadata": {},
   "outputs": [],
   "source": [
    "tfs"
   ]
  },
  {
   "cell_type": "code",
   "execution_count": null,
   "id": "494a7ce5",
   "metadata": {},
   "outputs": [],
   "source": [
    "# We'll then concatenate all the tf values together.\n",
    "(pd.concat(tfs)\n",
    " # calculate the idf value for each word\n",
    " .assign(idf=lambda df: df.word.apply(idf))\n",
    " # then use the if and idf values to calculate tf-idf \n",
    " .assign(tf_idf=lambda df: df.idf * df.tf)\n",
    " .drop(columns=['tf', 'idf'])\n",
    " .sort_values(by='tf_idf', ascending=False)\n",
    " .reset_index(drop=True))"
   ]
  },
  {
   "cell_type": "markdown",
   "id": "0a945e1b",
   "metadata": {},
   "source": [
    "It's more common to see the data presented with the words as features, and the documents as observations, like this:"
   ]
  },
  {
   "cell_type": "code",
   "execution_count": null,
   "id": "5352734a",
   "metadata": {},
   "outputs": [],
   "source": [
    "# We'll then concatenate all the tf values together.\n",
    "print(\"TF-IDF for each word/doc combination\")\n",
    "(pd.concat(tfs)\n",
    " # calculate the idf value for each word\n",
    " .assign(idf=lambda df: df.word.apply(idf))\n",
    " # then use the if and idf values to calculate tf-idf \n",
    " .assign(tf_idf=lambda df: df.idf * df.tf)\n",
    " .drop(columns=['tf', 'idf'])\n",
    " .sort_values(by='tf_idf', ascending=False)\n",
    " .pipe(lambda df: pd.crosstab(df.doc, df.word, values=df.tf_idf, aggfunc=lambda x: x))\n",
    " .fillna(0))"
   ]
  },
  {
   "cell_type": "markdown",
   "id": "1eb2dd7a",
   "metadata": {},
   "source": [
    "## TF-IDF with scikit-learn"
   ]
  },
  {
   "cell_type": "code",
   "execution_count": null,
   "id": "a2061d06",
   "metadata": {},
   "outputs": [],
   "source": [
    "from sklearn.feature_extraction.text import TfidfVectorizer\n",
    "\n",
    "tfidf = TfidfVectorizer()\n",
    "tfidfs = tfidf.fit_transform(documents.values())\n",
    "tfidfs"
   ]
  },
  {
   "cell_type": "markdown",
   "id": "4d1c0e1d",
   "metadata": {},
   "source": [
    "We get back a sparse matrix, a matrix with more 0s than anything else. Numpy has a special type that makes some manipulations and operations faster on sparse matrices.\n",
    "\n",
    "Becuase our data set is pretty small, we can convert our sparse matrix to a regular one, and put everything in a dataframe. If our data were larger, the operation below might take much longer."
   ]
  },
  {
   "cell_type": "code",
   "execution_count": null,
   "id": "e094dc02",
   "metadata": {},
   "outputs": [],
   "source": [
    "pd.DataFrame(tfidfs.todense(), columns=tfidf.get_feature_names())"
   ]
  },
  {
   "cell_type": "markdown",
   "id": "bb0762a2",
   "metadata": {},
   "source": [
    "Why are the values different? Because in our manual version we used a simplified formula. Scikit-learn uses the proper IDF formula to calculate TF-IDF."
   ]
  },
  {
   "cell_type": "markdown",
   "id": "5ba1f038",
   "metadata": {},
   "source": [
    "## Modeling\n",
    "\n",
    "Now we'll use the computed TF-IDF values as features in a model. We'll take a look at the spam data set first.\n",
    "\n",
    "Because of the way we are modeling the data, we have a lot of columns, and it is not uncommon to have more columns than rows. Also, our data is very imbalanced in the class distribution, that is, there are many more ham messages than spam messages.\n",
    "\n",
    "Other than these considerations, we can treat this as a standard classification problem. We'll use logistic regression as an example:"
   ]
  },
  {
   "cell_type": "code",
   "execution_count": null,
   "id": "f8112d44",
   "metadata": {},
   "outputs": [],
   "source": [
    "from sklearn.model_selection import train_test_split\n",
    "from sklearn.linear_model import LogisticRegression\n",
    "from sklearn.metrics import classification_report, accuracy_score\n",
    "from env import user, password, host\n",
    "\n",
    "def get_db_url(database, host=host, user=user, password=password):\n",
    "    return f'mysql+pymysql://{user}:{password}@{host}/{database}'\n",
    "\n",
    "url = get_db_url(\"spam_db\")\n",
    "sql = \"SELECT * FROM spam\"\n",
    "\n",
    "df = pd.read_sql(sql, url, index_col=\"id\")\n",
    "df.head()\n",
    "\n",
    "tfidf = TfidfVectorizer()\n",
    "X = tfidf.fit_transform(df.text)\n",
    "y = df.label\n",
    "\n",
    "X_train, X_test, y_train, y_test = train_test_split(X, y, stratify=y, test_size=.2)\n",
    "\n",
    "train = pd.DataFrame(dict(actual=y_train))\n",
    "test = pd.DataFrame(dict(actual=y_test))\n",
    "\n",
    "lm = LogisticRegression().fit(X_train, y_train)\n",
    "\n",
    "train['predicted'] = lm.predict(X_train)\n",
    "test['predicted'] = lm.predict(X_test)"
   ]
  },
  {
   "cell_type": "code",
   "execution_count": null,
   "id": "ae14f2f3",
   "metadata": {},
   "outputs": [],
   "source": [
    "print('Accuracy: {:.2%}'.format(accuracy_score(train.actual, train.predicted)))\n",
    "print('---')\n",
    "print('Confusion Matrix')\n",
    "print(pd.crosstab(train.predicted, train.actual))\n",
    "print('---')\n",
    "print(classification_report(train.actual, train.predicted))"
   ]
  },
  {
   "cell_type": "code",
   "execution_count": null,
   "id": "96c3bad3",
   "metadata": {},
   "outputs": [],
   "source": [
    "print('Accuracy: {:.2%}'.format(accuracy_score(test.actual, test.predicted)))\n",
    "print('---')\n",
    "print('Confusion Matrix')\n",
    "print(pd.crosstab(test.predicted, test.actual))\n",
    "print('---')\n",
    "print(classification_report(test.actual, test.predicted))"
   ]
  },
  {
   "cell_type": "markdown",
   "id": "533b30e5",
   "metadata": {},
   "source": [
    "## Exercises\n",
    "\n",
    "Do your work for this exercise in a file named `model.ipynb`.\n",
    "\n",
    "Take the work we did in the lessons further:\n",
    "\n",
    "1. What other types of models (i.e. different classifcation algorithms) could you use? Create a model with a different algorithm.\n",
    "2. How do the models compare when trained on term frequency data alone, instead of TF-IDF values?"
   ]
  }
 ],
 "metadata": {
  "kernelspec": {
   "display_name": "Python 3 (ipykernel)",
   "language": "python",
   "name": "python3"
  },
  "language_info": {
   "codemirror_mode": {
    "name": "ipython",
    "version": 3
   },
   "file_extension": ".py",
   "mimetype": "text/x-python",
   "name": "python",
   "nbconvert_exporter": "python",
   "pygments_lexer": "ipython3",
   "version": "3.8.8"
  }
 },
 "nbformat": 4,
 "nbformat_minor": 5
}
